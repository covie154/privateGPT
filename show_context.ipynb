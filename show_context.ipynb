{
 "cells": [
  {
   "cell_type": "code",
   "execution_count": 5,
   "metadata": {},
   "outputs": [],
   "source": [
    "import json\n",
    "import pandas as pd\n",
    "df_2a = pd.read_csv('temp_export_pGPT.csv')\n",
    "df_2a.index = df_2a['Qn']\n",
    "\n",
    "# Print the relevant sources used for the answer\n",
    "def print_docs(doc_list):\n",
    "    for document in doc_list:\n",
    "        if 'page' in document['metadata']:\n",
    "            doc_page_no = f\", page {document['metadata']['page']}/{document['metadata']['total_pages']}\"\n",
    "        else:\n",
    "            doc_page_no = \"\"\n",
    "        print(f\"> {document['metadata']['source']}{doc_page_no}:\")\n",
    "        print(document['page_content'])\n",
    "        print(\"\\n\")\n",
    "\n",
    "\n",
    "def print_context(loc_index):\n",
    "    row = df_2a.loc[loc_index]\n",
    "    doc_str = row['pGPT_explain']\n",
    "    doc_json = json.loads(doc_str)\n",
    "\n",
    "    print(row['Qn_Text'])\n",
    "    print(f\"A. {row['A']}\")\n",
    "    print(f\"B. {row['B']}\")\n",
    "    print(f\"C. {row['C']}\")\n",
    "    print(f\"D. {row['D']}\")\n",
    "    print(f\"E. {row['E']}\")\n",
    "    print(f\"pGPT ans: {row['pGPT_ans_long']}\")\n",
    "    print(\"\\n\")\n",
    "    \n",
    "    print_docs(doc_json)"
   ]
  },
  {
   "cell_type": "code",
   "execution_count": 7,
   "metadata": {},
   "outputs": [
    {
     "name": "stdout",
     "output_type": "stream",
     "text": [
      "An 18-year-old man complains to his GP of a thin watery discharge coming from his umbilicus. He recently returned from a gap year and is worried that his new naval piercing, done abroad, is infected. The GP requests an ultrasound scan which shows a tubular fluid filled structure in the anterior abdominal wall. What is the most likely diagnosis?\n",
      "A. Remnant cyst\n",
      "B. Seminal vesicle cyst\n",
      "C. Cystic prostate cancer\n",
      "D. Mullerian duct cyst\n",
      "E. Prostatic utricle cyst\n",
      "pGPT ans: 4. Remnant cyst\n",
      "\n",
      "\n",
      "> source_documents\\Gupta FRCR Part 2A.pdf, page 82/161:\n",
      "The most likely diagnosis is?\n",
      "(a) Medullary nephrocalcinosis\n",
      "(b) Renal cortical necrosis\n",
      "(c) Papillary necrosis\n",
      "(d) Acute pyelonephritis\n",
      "(e) Acute interstitial nephritis\n",
      "8. A 35-year-old Asian woman presents with lower abdominal pain and fever. \n",
      "Transvaginal ultrasound shows bilateral, homogenous, extraovarian, tubular \n",
      "lesions containing fluid with featureless walls. \n",
      "What is the most likely diagnosis?\n",
      "(a) Cystic ovarian tumour\n",
      "(b) Chocolate cysts\n",
      "(c) Bilateral hydrosalpinx\n",
      "\n",
      "\n",
      "> source_documents\\Crack the Core Exam - Volume 1 7th ed.pdf, page 306/546:\n",
      "ultrasound - because it gives you (the urologist) the option to do an image guided drain.\n",
      "306\n",
      "Mullerian Cyst\n",
      "ADH_2020\n",
      "\n",
      "\n",
      "> source_documents\\Lindsay FRCR 2A.pdf, page 158/315:\n",
      "ultrasound and surrounded by normal fatty tissue. Hypervascular ﬂ ow \n",
      "within the mass is noted on Doppler ultrasound. Which of the following is \n",
      "the most likely diagnosis?\n",
      "A. Invasive ductal carcinoma.\n",
      "B. Lipoma.\n",
      "C. Gynaecomastia.\n",
      "D. Lymphoma.\n",
      "E. Dermatoﬁ brosarcoma.\n",
      "5. \n",
      "A 62-year-old woman presents with recurrent urinary tract infections \n",
      "(UTIs) and a pelvic/renal tract ultrasound is performed. This demonstrates \n",
      "normal kidneys and bladder, but there is a 5-cm solid, hypoechoic mass\n",
      "\n",
      "\n",
      "> source_documents\\Lindsay FRCR 2A.pdf, page 129/315:\n",
      "ring-like indentations. What is the most likely diagnosis?\n",
      "A. Idiopathic eosinophilic oesophagitis (IEE).\n",
      "B. Crohn’s disease.\n",
      "C. Oesophageal carcinoma.\n",
      "D. Oesophageal perforation.\n",
      "E. Peptic stricture.\n",
      "57. A patient has an ultrasound scan carried out on a radiographer’s ultrasound \n",
      "list. The radiographer notices an unusual ﬁ nding and asks you to check \n",
      "the images. The liver, kidneys, and spleen appear unremarkable. There are\n",
      "\n",
      "\n"
     ]
    }
   ],
   "source": [
    "print_context(11541)"
   ]
  },
  {
   "cell_type": "code",
   "execution_count": null,
   "metadata": {},
   "outputs": [],
   "source": []
  }
 ],
 "metadata": {
  "kernelspec": {
   "display_name": "Python 3",
   "language": "python",
   "name": "python3"
  },
  "language_info": {
   "codemirror_mode": {
    "name": "ipython",
    "version": 3
   },
   "file_extension": ".py",
   "mimetype": "text/x-python",
   "name": "python",
   "nbconvert_exporter": "python",
   "pygments_lexer": "ipython3",
   "version": "3.11.3"
  },
  "orig_nbformat": 4
 },
 "nbformat": 4,
 "nbformat_minor": 2
}
